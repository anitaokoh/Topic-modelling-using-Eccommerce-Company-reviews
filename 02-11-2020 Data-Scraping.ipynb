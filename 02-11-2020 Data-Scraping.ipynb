{
  "nbformat": 4,
  "nbformat_minor": 0,
  "metadata": {
    "colab": {
      "name": "02-10-2020 Data-Scraping.ipynb",
      "provenance": []
    },
    "kernelspec": {
      "name": "python3",
      "display_name": "Python 3"
    }
  },
  "cells": [
    {
      "cell_type": "code",
      "metadata": {
        "id": "5PqRTJCi_gEK"
      },
      "source": [
        "import requests\n",
        "from bs4 import BeautifulSoup\n",
        "import pandas as pd\n",
        "import numpy as np"
      ],
      "execution_count": 1,
      "outputs": []
    },
    {
      "cell_type": "code",
      "metadata": {
        "id": "fjLqqIHTIaWl"
      },
      "source": [
        "company_page  = ['www.zalando.de','outfittery.de', 'www.amazon.de']\n",
        "root_url = 'https://www.trustpilot.com/review/'\n",
        "additive = '?page='"
      ],
      "execution_count": 2,
      "outputs": []
    },
    {
      "cell_type": "code",
      "metadata": {
        "id": "1vWSZFoMEdF5"
      },
      "source": [
        "def form_other_pages_url(home_url,additive,count_range,company_url_list=[]):\n",
        "  for count in count_range:\n",
        "    if count == 1:\n",
        "        other_page_link = home_url\n",
        "    else:\n",
        "        other_page_link = home_url + additive + str(count)\n",
        "    company_url_list.append(other_page_link)\n",
        "  return company_url_list\n",
        "    \n",
        "  "
      ],
      "execution_count": 3,
      "outputs": []
    },
    {
      "cell_type": "code",
      "metadata": {
        "id": "PAPQAyF3I9GQ"
      },
      "source": [
        "def get_url(count_range,company_url):\n",
        "  home_url = root_url + company_url\n",
        "  company_list = form_other_pages_url(home_url,additive,count_range,company_url_list=[])\n",
        "  return company_list\n",
        "\n"
      ],
      "execution_count": 4,
      "outputs": []
    },
    {
      "cell_type": "code",
      "metadata": {
        "id": "m-HqyjxuKmYw"
      },
      "source": [
        "zalando_urls = get_url(range(1,6),company_page[0])\n",
        "amazon_urls = get_url(range(1,26),company_page[2])\n",
        "outfittery_urls = get_url(range(1,6),company_page[1])"
      ],
      "execution_count": 5,
      "outputs": []
    },
    {
      "cell_type": "code",
      "metadata": {
        "id": "83mvMFlTRHB9"
      },
      "source": [
        "def get_reviews_objects(url):\n",
        "    page_url= requests.get(url).text\n",
        "    soup = BeautifulSoup(page_url, 'lxml')\n",
        "    review_title = soup.find_all('a',class_='link link--large link--dark')\n",
        "    review_body = soup.find_all('p',class_='review-content__text')\n",
        "    return review_title,review_body"
      ],
      "execution_count": 6,
      "outputs": []
    },
    {
      "cell_type": "code",
      "metadata": {
        "id": "Mj7tOV3cNQON"
      },
      "source": [
        "def url_list (url_list):\n",
        "  apprend_content = []\n",
        "  title_bulk = []\n",
        "  body_bulk = []\n",
        "  for url in url_list:\n",
        "     review_title,review_body = get_reviews_objects(url)\n",
        "     title_text = [review.text for review in review_title]\n",
        "     body_text = [review.text for review in review_body]\n",
        "     title_bulk += title_text\n",
        "     body_bulk += body_text\n",
        "\n",
        "  apprend_content.append([title_bulk,body_bulk])\n",
        "  return apprend_content\n",
        "  "
      ],
      "execution_count": 7,
      "outputs": []
    },
    {
      "cell_type": "code",
      "metadata": {
        "id": "jND790_EQj3S"
      },
      "source": [
        "zalando_content = url_list(zalando_urls)\n",
        "amazon_content = url_list(amazon_urls)\n",
        "outfittery_content = url_list(outfittery_urls)"
      ],
      "execution_count": 8,
      "outputs": []
    },
    {
      "cell_type": "code",
      "metadata": {
        "id": "TkummC2KUYSu"
      },
      "source": [
        "data_base = pd.DataFrame()\n"
      ],
      "execution_count": 9,
      "outputs": []
    },
    {
      "cell_type": "code",
      "metadata": {
        "id": "3ogYhPlJUxKl"
      },
      "source": [
        "map_company = {0:'zalando',1:'Amazon',2:'Outfittery'}\n",
        "content_list = [zalando_content,amazon_content,outfittery_content]\n",
        "\n",
        "for index,content in enumerate(content_list):\n",
        "  data = pd.DataFrame(zip(content[0][0],content[0][1]))\n",
        "  data['company'] = index\n",
        "  data_base = pd.concat([data_base,data],ignore_index=True)\n"
      ],
      "execution_count": 12,
      "outputs": []
    },
    {
      "cell_type": "code",
      "metadata": {
        "id": "s8Ix6pajX6O-"
      },
      "source": [
        "data_base['company'] = data_base['company'].map(map_company)\n",
        "data_base.head()"
      ],
      "execution_count": 15,
      "outputs": []
    },
    {
      "cell_type": "code",
      "metadata": {
        "id": "UGhfGw42YHHg"
      },
      "source": [
        "data_base.to_csv('trustpilot_reviews.csv')"
      ],
      "execution_count": 17,
      "outputs": []
    },
    {
      "cell_type": "code",
      "metadata": {
        "id": "FkDY3y51ZqZy"
      },
      "source": [
        ""
      ],
      "execution_count": null,
      "outputs": []
    }
  ]
}