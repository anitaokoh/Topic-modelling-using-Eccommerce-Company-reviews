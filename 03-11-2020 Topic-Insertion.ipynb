{
 "cells": [
  {
   "cell_type": "markdown",
   "metadata": {},
   "source": [
    "# Inserting Topic Modeling Output to Clean DataFrame\n",
    "This Includes Manupulation of columns, mapping and concating of dataframes"
   ]
  },
  {
   "cell_type": "markdown",
   "metadata": {},
   "source": [
    "### Import Libraries and  reading the necessary data  to dataframes"
   ]
  },
  {
   "cell_type": "code",
   "execution_count": 1,
   "metadata": {},
   "outputs": [],
   "source": [
    "import pandas as pd\n",
    "import numpy as np\n",
    "import re\n",
    "pd.set_option('display.max_rows', 1000)"
   ]
  },
  {
   "cell_type": "code",
   "execution_count": 2,
   "metadata": {},
   "outputs": [
    {
     "data": {
      "text/html": [
       "<div>\n",
       "<style scoped>\n",
       "    .dataframe tbody tr th:only-of-type {\n",
       "        vertical-align: middle;\n",
       "    }\n",
       "\n",
       "    .dataframe tbody tr th {\n",
       "        vertical-align: top;\n",
       "    }\n",
       "\n",
       "    .dataframe thead th {\n",
       "        text-align: right;\n",
       "    }\n",
       "</style>\n",
       "<table border=\"1\" class=\"dataframe\">\n",
       "  <thead>\n",
       "    <tr style=\"text-align: right;\">\n",
       "      <th></th>\n",
       "      <th>docname</th>\n",
       "      <th>topic</th>\n",
       "      <th>proportion</th>\n",
       "    </tr>\n",
       "  </thead>\n",
       "  <tbody>\n",
       "    <tr>\n",
       "      <th>0</th>\n",
       "      <td>review_body.csv:11</td>\n",
       "      <td>2</td>\n",
       "      <td>1.0</td>\n",
       "    </tr>\n",
       "    <tr>\n",
       "      <th>1</th>\n",
       "      <td>review_body.csv:46</td>\n",
       "      <td>0</td>\n",
       "      <td>1.0</td>\n",
       "    </tr>\n",
       "    <tr>\n",
       "      <th>2</th>\n",
       "      <td>review_body.csv:81</td>\n",
       "      <td>1</td>\n",
       "      <td>1.0</td>\n",
       "    </tr>\n",
       "    <tr>\n",
       "      <th>3</th>\n",
       "      <td>review_body.csv:116</td>\n",
       "      <td>0</td>\n",
       "      <td>1.0</td>\n",
       "    </tr>\n",
       "    <tr>\n",
       "      <th>4</th>\n",
       "      <td>review_body.csv:151</td>\n",
       "      <td>1</td>\n",
       "      <td>1.0</td>\n",
       "    </tr>\n",
       "  </tbody>\n",
       "</table>\n",
       "</div>"
      ],
      "text/plain": [
       "               docname  topic  proportion\n",
       "0   review_body.csv:11      2         1.0\n",
       "1   review_body.csv:46      0         1.0\n",
       "2   review_body.csv:81      1         1.0\n",
       "3  review_body.csv:116      0         1.0\n",
       "4  review_body.csv:151      1         1.0"
      ]
     },
     "execution_count": 2,
     "metadata": {},
     "output_type": "execute_result"
    }
   ],
   "source": [
    "topic_data = pd.read_csv('doc-topics.csv')\n",
    "clean_data = pd.read_csv('data/clean_data.csv').iloc[:,1:]\n",
    "topic_data.head()"
   ]
  },
  {
   "cell_type": "markdown",
   "metadata": {},
   "source": [
    "### Data Manipulating and Cleaning"
   ]
  },
  {
   "cell_type": "markdown",
   "metadata": {},
   "source": [
    "**Step 1 - Get the Line number for each review from the docname columns, sort and remove row 0 as that is the topic for the  column names**"
   ]
  },
  {
   "cell_type": "code",
   "execution_count": 3,
   "metadata": {},
   "outputs": [
    {
     "data": {
      "text/html": [
       "<div>\n",
       "<style scoped>\n",
       "    .dataframe tbody tr th:only-of-type {\n",
       "        vertical-align: middle;\n",
       "    }\n",
       "\n",
       "    .dataframe tbody tr th {\n",
       "        vertical-align: top;\n",
       "    }\n",
       "\n",
       "    .dataframe thead th {\n",
       "        text-align: right;\n",
       "    }\n",
       "</style>\n",
       "<table border=\"1\" class=\"dataframe\">\n",
       "  <thead>\n",
       "    <tr style=\"text-align: right;\">\n",
       "      <th></th>\n",
       "      <th>docname</th>\n",
       "      <th>topic</th>\n",
       "      <th>proportion</th>\n",
       "      <th>index</th>\n",
       "    </tr>\n",
       "  </thead>\n",
       "  <tbody>\n",
       "    <tr>\n",
       "      <th>447</th>\n",
       "      <td>review_body.csv:1</td>\n",
       "      <td>0</td>\n",
       "      <td>1.0</td>\n",
       "      <td>1</td>\n",
       "    </tr>\n",
       "    <tr>\n",
       "      <th>469</th>\n",
       "      <td>review_body.csv:2</td>\n",
       "      <td>0</td>\n",
       "      <td>1.0</td>\n",
       "      <td>2</td>\n",
       "    </tr>\n",
       "    <tr>\n",
       "      <th>80</th>\n",
       "      <td>review_body.csv:3</td>\n",
       "      <td>0</td>\n",
       "      <td>1.0</td>\n",
       "      <td>3</td>\n",
       "    </tr>\n",
       "    <tr>\n",
       "      <th>426</th>\n",
       "      <td>review_body.csv:4</td>\n",
       "      <td>0</td>\n",
       "      <td>1.0</td>\n",
       "      <td>4</td>\n",
       "    </tr>\n",
       "    <tr>\n",
       "      <th>348</th>\n",
       "      <td>review_body.csv:5</td>\n",
       "      <td>0</td>\n",
       "      <td>1.0</td>\n",
       "      <td>5</td>\n",
       "    </tr>\n",
       "  </tbody>\n",
       "</table>\n",
       "</div>"
      ],
      "text/plain": [
       "               docname  topic  proportion  index\n",
       "447  review_body.csv:1      0         1.0      1\n",
       "469  review_body.csv:2      0         1.0      2\n",
       "80   review_body.csv:3      0         1.0      3\n",
       "426  review_body.csv:4      0         1.0      4\n",
       "348  review_body.csv:5      0         1.0      5"
      ]
     },
     "execution_count": 3,
     "metadata": {},
     "output_type": "execute_result"
    }
   ],
   "source": [
    "topic_data['index'] = topic_data['docname'].str.split(':')\n",
    "topic_data['index'] = topic_data['index'].apply(lambda x: x[1])\n",
    "topic_data['index']=topic_data['index'].astype(int)\n",
    "topic_data.sort_values(by=['index'],inplace=True)\n",
    "topic_data = topic_data.iloc[1:,:]\n",
    "topic_data.head()"
   ]
  },
  {
   "cell_type": "markdown",
   "metadata": {},
   "source": [
    "**Step 2 - Seperate rows those proportion is exactly 1 and less then 1. From the rows that are less than one, sort to remove duplicate line numbers. ( There are reviews that have more than one topic present in them. We are onle interested in the dominate topic). Finally combine the dataframe with less than 1 proportion with the dataframe with exactly one proportion**"
   ]
  },
  {
   "cell_type": "code",
   "execution_count": 4,
   "metadata": {},
   "outputs": [
    {
     "name": "stderr",
     "output_type": "stream",
     "text": [
      "/Users/anitaokoh/anaconda3/envs/temporary_env/lib/python3.7/site-packages/ipykernel_launcher.py:3: SettingWithCopyWarning: \n",
      "A value is trying to be set on a copy of a slice from a DataFrame\n",
      "\n",
      "See the caveats in the documentation: https://pandas.pydata.org/pandas-docs/stable/user_guide/indexing.html#returning-a-view-versus-a-copy\n",
      "  This is separate from the ipykernel package so we can avoid doing imports until\n"
     ]
    }
   ],
   "source": [
    "less_than_1 = topic_data[topic_data['proportion']<1]\n",
    "equal_to_1 = topic_data[topic_data['proportion']==1]\n",
    "less_than_1.sort_values('proportion',ascending=False,inplace=True)\n",
    "less_than_1.reset_index(inplace=True,drop=True)"
   ]
  },
  {
   "cell_type": "code",
   "execution_count": 5,
   "metadata": {},
   "outputs": [],
   "source": [
    "less_than_1 = less_than_1.iloc[:47,:]\n",
    "topics = pd.concat([less_than_1,equal_to_1],ignore_index=True)"
   ]
  },
  {
   "cell_type": "markdown",
   "metadata": {},
   "source": [
    "**Step 3 - Resort and reindex the new dataframe created. Then finally concat the dataframe with the original clean data that contains the reviews**"
   ]
  },
  {
   "cell_type": "code",
   "execution_count": 6,
   "metadata": {},
   "outputs": [
    {
     "data": {
      "text/html": [
       "<div>\n",
       "<style scoped>\n",
       "    .dataframe tbody tr th:only-of-type {\n",
       "        vertical-align: middle;\n",
       "    }\n",
       "\n",
       "    .dataframe tbody tr th {\n",
       "        vertical-align: top;\n",
       "    }\n",
       "\n",
       "    .dataframe thead th {\n",
       "        text-align: right;\n",
       "    }\n",
       "</style>\n",
       "<table border=\"1\" class=\"dataframe\">\n",
       "  <thead>\n",
       "    <tr style=\"text-align: right;\">\n",
       "      <th></th>\n",
       "      <th>docname</th>\n",
       "      <th>topic</th>\n",
       "      <th>proportion</th>\n",
       "      <th>index</th>\n",
       "    </tr>\n",
       "  </thead>\n",
       "  <tbody>\n",
       "    <tr>\n",
       "      <th>0</th>\n",
       "      <td>review_body.csv:1</td>\n",
       "      <td>0</td>\n",
       "      <td>1.0</td>\n",
       "      <td>0</td>\n",
       "    </tr>\n",
       "    <tr>\n",
       "      <th>1</th>\n",
       "      <td>review_body.csv:2</td>\n",
       "      <td>0</td>\n",
       "      <td>1.0</td>\n",
       "      <td>1</td>\n",
       "    </tr>\n",
       "    <tr>\n",
       "      <th>2</th>\n",
       "      <td>review_body.csv:3</td>\n",
       "      <td>0</td>\n",
       "      <td>1.0</td>\n",
       "      <td>2</td>\n",
       "    </tr>\n",
       "    <tr>\n",
       "      <th>3</th>\n",
       "      <td>review_body.csv:4</td>\n",
       "      <td>0</td>\n",
       "      <td>1.0</td>\n",
       "      <td>3</td>\n",
       "    </tr>\n",
       "    <tr>\n",
       "      <th>4</th>\n",
       "      <td>review_body.csv:5</td>\n",
       "      <td>0</td>\n",
       "      <td>1.0</td>\n",
       "      <td>4</td>\n",
       "    </tr>\n",
       "  </tbody>\n",
       "</table>\n",
       "</div>"
      ],
      "text/plain": [
       "             docname  topic  proportion  index\n",
       "0  review_body.csv:1      0         1.0      0\n",
       "1  review_body.csv:2      0         1.0      1\n",
       "2  review_body.csv:3      0         1.0      2\n",
       "3  review_body.csv:4      0         1.0      3\n",
       "4  review_body.csv:5      0         1.0      4"
      ]
     },
     "execution_count": 6,
     "metadata": {},
     "output_type": "execute_result"
    }
   ],
   "source": [
    "topics.sort_values('index',inplace=True)\n",
    "topics['index'] = range(0,653)\n",
    "topics.reset_index(inplace=True,drop=True)\n",
    "topics.head()"
   ]
  },
  {
   "cell_type": "code",
   "execution_count": 7,
   "metadata": {},
   "outputs": [
    {
     "name": "stdout",
     "output_type": "stream",
     "text": [
      "<class 'pandas.core.frame.DataFrame'>\n",
      "RangeIndex: 653 entries, 0 to 652\n",
      "Data columns (total 7 columns):\n",
      " #   Column          Non-Null Count  Dtype  \n",
      "---  ------          --------------  -----  \n",
      " 0   review_title    653 non-null    object \n",
      " 1   review_body     653 non-null    object \n",
      " 2   company_source  653 non-null    object \n",
      " 3   docname         653 non-null    object \n",
      " 4   topic           653 non-null    int64  \n",
      " 5   proportion      653 non-null    float64\n",
      " 6   index           653 non-null    int64  \n",
      "dtypes: float64(1), int64(2), object(4)\n",
      "memory usage: 35.8+ KB\n"
     ]
    }
   ],
   "source": [
    "result = pd.concat([clean_data, topics], axis=1, sort=False)\n",
    "result.info()"
   ]
  },
  {
   "cell_type": "markdown",
   "metadata": {},
   "source": [
    "**Step 4 - Rename the topics into categories and map it into the dataframe. Indicate reviews that have more than one topics. Drop unneccessary columns**"
   ]
  },
  {
   "cell_type": "code",
   "execution_count": 9,
   "metadata": {},
   "outputs": [
    {
     "data": {
      "text/html": [
       "<div>\n",
       "<style scoped>\n",
       "    .dataframe tbody tr th:only-of-type {\n",
       "        vertical-align: middle;\n",
       "    }\n",
       "\n",
       "    .dataframe tbody tr th {\n",
       "        vertical-align: top;\n",
       "    }\n",
       "\n",
       "    .dataframe thead th {\n",
       "        text-align: right;\n",
       "    }\n",
       "</style>\n",
       "<table border=\"1\" class=\"dataframe\">\n",
       "  <thead>\n",
       "    <tr style=\"text-align: right;\">\n",
       "      <th></th>\n",
       "      <th>review_title</th>\n",
       "      <th>review_body</th>\n",
       "      <th>company_source</th>\n",
       "      <th>docname</th>\n",
       "      <th>topic</th>\n",
       "      <th>proportion</th>\n",
       "      <th>index</th>\n",
       "    </tr>\n",
       "  </thead>\n",
       "  <tbody>\n",
       "    <tr>\n",
       "      <th>0</th>\n",
       "      <td>I ordered an item and had a little</td>\n",
       "      <td>I ordered an item and had a little payment mis...</td>\n",
       "      <td>zalando</td>\n",
       "      <td>review_body.csv:1</td>\n",
       "      <td>About Product/Services</td>\n",
       "      <td>1.0</td>\n",
       "      <td>0</td>\n",
       "    </tr>\n",
       "    <tr>\n",
       "      <th>1</th>\n",
       "      <td>I ordered few items for 800 euro</td>\n",
       "      <td>I ordered few items for 800 euro came only che...</td>\n",
       "      <td>zalando</td>\n",
       "      <td>review_body.csv:2</td>\n",
       "      <td>About Product/Services</td>\n",
       "      <td>1.0</td>\n",
       "      <td>1</td>\n",
       "    </tr>\n",
       "    <tr>\n",
       "      <th>2</th>\n",
       "      <td>Always the first choice for apparel shopping</td>\n",
       "      <td>Always the first choice for apparel shopping i...</td>\n",
       "      <td>zalando</td>\n",
       "      <td>review_body.csv:3</td>\n",
       "      <td>About Product/Services</td>\n",
       "      <td>1.0</td>\n",
       "      <td>2</td>\n",
       "    </tr>\n",
       "    <tr>\n",
       "      <th>3</th>\n",
       "      <td>Support is bad return items and do not get mon...</td>\n",
       "      <td>Ordered items for 1200 got them all but in the...</td>\n",
       "      <td>zalando</td>\n",
       "      <td>review_body.csv:4</td>\n",
       "      <td>About Product/Services</td>\n",
       "      <td>1.0</td>\n",
       "      <td>3</td>\n",
       "    </tr>\n",
       "    <tr>\n",
       "      <th>4</th>\n",
       "      <td>Utterly useless in every respect</td>\n",
       "      <td>2 items ordered the first came the next day dh...</td>\n",
       "      <td>zalando</td>\n",
       "      <td>review_body.csv:5</td>\n",
       "      <td>About Product/Services</td>\n",
       "      <td>1.0</td>\n",
       "      <td>4</td>\n",
       "    </tr>\n",
       "  </tbody>\n",
       "</table>\n",
       "</div>"
      ],
      "text/plain": [
       "                                        review_title  \\\n",
       "0                 I ordered an item and had a little   \n",
       "1                   I ordered few items for 800 euro   \n",
       "2       Always the first choice for apparel shopping   \n",
       "3  Support is bad return items and do not get mon...   \n",
       "4                   Utterly useless in every respect   \n",
       "\n",
       "                                         review_body company_source  \\\n",
       "0  I ordered an item and had a little payment mis...        zalando   \n",
       "1  I ordered few items for 800 euro came only che...        zalando   \n",
       "2  Always the first choice for apparel shopping i...        zalando   \n",
       "3  Ordered items for 1200 got them all but in the...        zalando   \n",
       "4  2 items ordered the first came the next day dh...        zalando   \n",
       "\n",
       "             docname                   topic  proportion  index  \n",
       "0  review_body.csv:1  About Product/Services         1.0      0  \n",
       "1  review_body.csv:2  About Product/Services         1.0      1  \n",
       "2  review_body.csv:3  About Product/Services         1.0      2  \n",
       "3  review_body.csv:4  About Product/Services         1.0      3  \n",
       "4  review_body.csv:5  About Product/Services         1.0      4  "
      ]
     },
     "execution_count": 9,
     "metadata": {},
     "output_type": "execute_result"
    }
   ],
   "source": [
    "mapping_topic = {0:'About Product/Services',1:'Experience/Expectation',2:'Transaction Journey'}\n",
    "result['topic'] = result['topic'].map(mapping_topic)\n",
    "result['topic'] = np.where(result['proportion']==1,result['topic'],result['topic']+'+')\n",
    "result.head()"
   ]
  },
  {
   "cell_type": "code",
   "execution_count": 10,
   "metadata": {},
   "outputs": [],
   "source": [
    "result.drop(['docname','proportion'],axis=1,inplace=True)"
   ]
  },
  {
   "cell_type": "code",
   "execution_count": 11,
   "metadata": {},
   "outputs": [],
   "source": [
    "result.to_csv('topicmodelling_data.csv')"
   ]
  },
  {
   "cell_type": "markdown",
   "metadata": {},
   "source": [
    "The final dataframe is then stored in a csv for further merging of the sentiment results"
   ]
  },
  {
   "cell_type": "code",
   "execution_count": null,
   "metadata": {},
   "outputs": [],
   "source": []
  }
 ],
 "metadata": {
  "kernelspec": {
   "display_name": "Python 3",
   "language": "python",
   "name": "python3"
  },
  "language_info": {
   "codemirror_mode": {
    "name": "ipython",
    "version": 3
   },
   "file_extension": ".py",
   "mimetype": "text/x-python",
   "name": "python",
   "nbconvert_exporter": "python",
   "pygments_lexer": "ipython3",
   "version": "3.7.9"
  }
 },
 "nbformat": 4,
 "nbformat_minor": 4
}
