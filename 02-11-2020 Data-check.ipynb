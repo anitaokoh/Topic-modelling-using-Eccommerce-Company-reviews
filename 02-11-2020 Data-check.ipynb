{
 "cells": [
  {
   "cell_type": "code",
   "execution_count": 1,
   "metadata": {},
   "outputs": [],
   "source": [
    "import pandas as pd\n",
    "import numpy as np\n",
    "import re\n",
    "import spacy\n",
    "import contractions\n",
    "from spellchecker import SpellChecker"
   ]
  },
  {
   "cell_type": "code",
   "execution_count": 2,
   "metadata": {},
   "outputs": [
    {
     "data": {
      "text/html": [
       "<div>\n",
       "<style scoped>\n",
       "    .dataframe tbody tr th:only-of-type {\n",
       "        vertical-align: middle;\n",
       "    }\n",
       "\n",
       "    .dataframe tbody tr th {\n",
       "        vertical-align: top;\n",
       "    }\n",
       "\n",
       "    .dataframe thead th {\n",
       "        text-align: right;\n",
       "    }\n",
       "</style>\n",
       "<table border=\"1\" class=\"dataframe\">\n",
       "  <thead>\n",
       "    <tr style=\"text-align: right;\">\n",
       "      <th></th>\n",
       "      <th>review_title</th>\n",
       "      <th>review_body</th>\n",
       "      <th>company_source</th>\n",
       "    </tr>\n",
       "  </thead>\n",
       "  <tbody>\n",
       "    <tr>\n",
       "      <th>0</th>\n",
       "      <td>I ordered an item and had a little…</td>\n",
       "      <td>I ordered an item and had a li...</td>\n",
       "      <td>zalando</td>\n",
       "    </tr>\n",
       "    <tr>\n",
       "      <th>1</th>\n",
       "      <td>I ordered few items for 800 euro</td>\n",
       "      <td>I ordered few items for 800 eu...</td>\n",
       "      <td>zalando</td>\n",
       "    </tr>\n",
       "    <tr>\n",
       "      <th>2</th>\n",
       "      <td>Always the first choice for apparel shopping.</td>\n",
       "      <td>Always the first choice for ap...</td>\n",
       "      <td>zalando</td>\n",
       "    </tr>\n",
       "    <tr>\n",
       "      <th>3</th>\n",
       "      <td>Support is bad, return items and don't get mon...</td>\n",
       "      <td>Ordered items for 1200€. Got t...</td>\n",
       "      <td>zalando</td>\n",
       "    </tr>\n",
       "    <tr>\n",
       "      <th>4</th>\n",
       "      <td>Utterley useless in every resepct</td>\n",
       "      <td>2 items ordered, the first cam...</td>\n",
       "      <td>zalando</td>\n",
       "    </tr>\n",
       "  </tbody>\n",
       "</table>\n",
       "</div>"
      ],
      "text/plain": [
       "                                        review_title  \\\n",
       "0                I ordered an item and had a little…   \n",
       "1                   I ordered few items for 800 euro   \n",
       "2      Always the first choice for apparel shopping.   \n",
       "3  Support is bad, return items and don't get mon...   \n",
       "4                  Utterley useless in every resepct   \n",
       "\n",
       "                                         review_body company_source  \n",
       "0                  I ordered an item and had a li...        zalando  \n",
       "1                  I ordered few items for 800 eu...        zalando  \n",
       "2                  Always the first choice for ap...        zalando  \n",
       "3                  Ordered items for 1200€. Got t...        zalando  \n",
       "4                  2 items ordered, the first cam...        zalando  "
      ]
     },
     "execution_count": 2,
     "metadata": {},
     "output_type": "execute_result"
    }
   ],
   "source": [
    "data = pd.read_csv('trustpilot_reviews.csv').iloc[:,1:]\n",
    "data.columns = ['review_title','review_body','company_source']\n",
    "data = data.replace('(\\\\n)','',regex=True)\n",
    "data.head()"
   ]
  },
  {
   "cell_type": "code",
   "execution_count": 3,
   "metadata": {},
   "outputs": [],
   "source": [
    "data['review_title'] = data['review_title'].apply(lambda x: contractions.fix(x))\n",
    "data['review_body'] = data['review_body'].apply(lambda x: contractions.fix(x))"
   ]
  },
  {
   "cell_type": "code",
   "execution_count": 4,
   "metadata": {},
   "outputs": [
    {
     "data": {
      "text/html": [
       "<div>\n",
       "<style scoped>\n",
       "    .dataframe tbody tr th:only-of-type {\n",
       "        vertical-align: middle;\n",
       "    }\n",
       "\n",
       "    .dataframe tbody tr th {\n",
       "        vertical-align: top;\n",
       "    }\n",
       "\n",
       "    .dataframe thead th {\n",
       "        text-align: right;\n",
       "    }\n",
       "</style>\n",
       "<table border=\"1\" class=\"dataframe\">\n",
       "  <thead>\n",
       "    <tr style=\"text-align: right;\">\n",
       "      <th></th>\n",
       "      <th>review_title</th>\n",
       "      <th>review_body</th>\n",
       "      <th>company_source</th>\n",
       "    </tr>\n",
       "  </thead>\n",
       "  <tbody>\n",
       "    <tr>\n",
       "      <th>0</th>\n",
       "      <td>I ordered an item and had a little…</td>\n",
       "      <td>I ordered an item and had a li...</td>\n",
       "      <td>zalando</td>\n",
       "    </tr>\n",
       "    <tr>\n",
       "      <th>1</th>\n",
       "      <td>I ordered few items for 800 euro</td>\n",
       "      <td>I ordered few items for 800 eu...</td>\n",
       "      <td>zalando</td>\n",
       "    </tr>\n",
       "    <tr>\n",
       "      <th>2</th>\n",
       "      <td>Always the first choice for apparel shopping.</td>\n",
       "      <td>Always the first choice for ap...</td>\n",
       "      <td>zalando</td>\n",
       "    </tr>\n",
       "    <tr>\n",
       "      <th>3</th>\n",
       "      <td>Support is bad, return items and do not get mo...</td>\n",
       "      <td>Ordered items for 1200€. Got t...</td>\n",
       "      <td>zalando</td>\n",
       "    </tr>\n",
       "    <tr>\n",
       "      <th>4</th>\n",
       "      <td>Utterley useless in every resepct</td>\n",
       "      <td>2 items ordered, the first cam...</td>\n",
       "      <td>zalando</td>\n",
       "    </tr>\n",
       "  </tbody>\n",
       "</table>\n",
       "</div>"
      ],
      "text/plain": [
       "                                        review_title  \\\n",
       "0                I ordered an item and had a little…   \n",
       "1                   I ordered few items for 800 euro   \n",
       "2      Always the first choice for apparel shopping.   \n",
       "3  Support is bad, return items and do not get mo...   \n",
       "4                  Utterley useless in every resepct   \n",
       "\n",
       "                                         review_body company_source  \n",
       "0                  I ordered an item and had a li...        zalando  \n",
       "1                  I ordered few items for 800 eu...        zalando  \n",
       "2                  Always the first choice for ap...        zalando  \n",
       "3                  Ordered items for 1200€. Got t...        zalando  \n",
       "4                  2 items ordered, the first cam...        zalando  "
      ]
     },
     "execution_count": 4,
     "metadata": {},
     "output_type": "execute_result"
    }
   ],
   "source": [
    "data.head()"
   ]
  },
  {
   "cell_type": "code",
   "execution_count": null,
   "metadata": {},
   "outputs": [],
   "source": [
    "data = data.replace('(Amazon|amazon|Outfittery|outfittery|zalando|Zalando)','',regex=True)"
   ]
  },
  {
   "cell_type": "code",
   "execution_count": 5,
   "metadata": {},
   "outputs": [],
   "source": [
    "nlp = spacy.load(\"en_core_web_sm\")\n",
    "spell = SpellChecker(case_sensitive=True)"
   ]
  },
  {
   "cell_type": "code",
   "execution_count": 6,
   "metadata": {},
   "outputs": [
    {
     "data": {
      "text/plain": [
       "653"
      ]
     },
     "execution_count": 6,
     "metadata": {},
     "output_type": "execute_result"
    }
   ],
   "source": [
    "review_title = list(data['review_title'])\n",
    "review_body = list(data['review_body'])\n",
    "len(review_title)"
   ]
  },
  {
   "cell_type": "code",
   "execution_count": 7,
   "metadata": {},
   "outputs": [],
   "source": [
    "def correct_spelling(review_list):\n",
    "    new_list = []\n",
    "    for sentence in review_list:\n",
    "        new_sentence = ' '.join([spell.correction(word) for word in spell.split_words(sentence)])\n",
    "        new_list.append(new_sentence)\n",
    "    return new_list\n",
    "    "
   ]
  },
  {
   "cell_type": "code",
   "execution_count": 8,
   "metadata": {},
   "outputs": [],
   "source": [
    "review_title = correct_spelling(review_title)\n",
    "review_body = correct_spelling(review_body)"
   ]
  },
  {
   "cell_type": "code",
   "execution_count": 9,
   "metadata": {},
   "outputs": [
    {
     "data": {
      "text/plain": [
       "'utterly useless in every respect'"
      ]
     },
     "execution_count": 9,
     "metadata": {},
     "output_type": "execute_result"
    }
   ],
   "source": [
    "review_title[4]"
   ]
  },
  {
   "cell_type": "code",
   "execution_count": 10,
   "metadata": {},
   "outputs": [],
   "source": [
    "data['correct_title'] = review_title\n",
    "data['correct_body'] = review_body"
   ]
  },
  {
   "cell_type": "code",
   "execution_count": 11,
   "metadata": {},
   "outputs": [
    {
     "data": {
      "text/html": [
       "<div>\n",
       "<style scoped>\n",
       "    .dataframe tbody tr th:only-of-type {\n",
       "        vertical-align: middle;\n",
       "    }\n",
       "\n",
       "    .dataframe tbody tr th {\n",
       "        vertical-align: top;\n",
       "    }\n",
       "\n",
       "    .dataframe thead th {\n",
       "        text-align: right;\n",
       "    }\n",
       "</style>\n",
       "<table border=\"1\" class=\"dataframe\">\n",
       "  <thead>\n",
       "    <tr style=\"text-align: right;\">\n",
       "      <th></th>\n",
       "      <th>review_title</th>\n",
       "      <th>review_body</th>\n",
       "      <th>company_source</th>\n",
       "      <th>correct_title</th>\n",
       "      <th>correct_body</th>\n",
       "    </tr>\n",
       "  </thead>\n",
       "  <tbody>\n",
       "    <tr>\n",
       "      <th>0</th>\n",
       "      <td>I ordered an item and had a little…</td>\n",
       "      <td>I ordered an item and had a li...</td>\n",
       "      <td>zalando</td>\n",
       "      <td>i ordered an item and had a little</td>\n",
       "      <td>i ordered an item and had a little payment mis...</td>\n",
       "    </tr>\n",
       "    <tr>\n",
       "      <th>1</th>\n",
       "      <td>I ordered few items for 800 euro</td>\n",
       "      <td>I ordered few items for 800 eu...</td>\n",
       "      <td>zalando</td>\n",
       "      <td>i ordered few items for 800 euro</td>\n",
       "      <td>i ordered few items for 800 euro came only che...</td>\n",
       "    </tr>\n",
       "    <tr>\n",
       "      <th>2</th>\n",
       "      <td>Always the first choice for apparel shopping.</td>\n",
       "      <td>Always the first choice for ap...</td>\n",
       "      <td>zalando</td>\n",
       "      <td>always the first choice for apparel shopping</td>\n",
       "      <td>always the first choice for apparel shopping i...</td>\n",
       "    </tr>\n",
       "    <tr>\n",
       "      <th>3</th>\n",
       "      <td>Support is bad, return items and do not get mo...</td>\n",
       "      <td>Ordered items for 1200€. Got t...</td>\n",
       "      <td>zalando</td>\n",
       "      <td>support is bad return items and do not get mon...</td>\n",
       "      <td>ordered items for 1200 got them all but in the...</td>\n",
       "    </tr>\n",
       "    <tr>\n",
       "      <th>4</th>\n",
       "      <td>Utterley useless in every resepct</td>\n",
       "      <td>2 items ordered, the first cam...</td>\n",
       "      <td>zalando</td>\n",
       "      <td>utterly useless in every respect</td>\n",
       "      <td>2 items ordered the first came the next day dh...</td>\n",
       "    </tr>\n",
       "  </tbody>\n",
       "</table>\n",
       "</div>"
      ],
      "text/plain": [
       "                                        review_title  \\\n",
       "0                I ordered an item and had a little…   \n",
       "1                   I ordered few items for 800 euro   \n",
       "2      Always the first choice for apparel shopping.   \n",
       "3  Support is bad, return items and do not get mo...   \n",
       "4                  Utterley useless in every resepct   \n",
       "\n",
       "                                         review_body company_source  \\\n",
       "0                  I ordered an item and had a li...        zalando   \n",
       "1                  I ordered few items for 800 eu...        zalando   \n",
       "2                  Always the first choice for ap...        zalando   \n",
       "3                  Ordered items for 1200€. Got t...        zalando   \n",
       "4                  2 items ordered, the first cam...        zalando   \n",
       "\n",
       "                                       correct_title  \\\n",
       "0                 i ordered an item and had a little   \n",
       "1                   i ordered few items for 800 euro   \n",
       "2       always the first choice for apparel shopping   \n",
       "3  support is bad return items and do not get mon...   \n",
       "4                   utterly useless in every respect   \n",
       "\n",
       "                                        correct_body  \n",
       "0  i ordered an item and had a little payment mis...  \n",
       "1  i ordered few items for 800 euro came only che...  \n",
       "2  always the first choice for apparel shopping i...  \n",
       "3  ordered items for 1200 got them all but in the...  \n",
       "4  2 items ordered the first came the next day dh...  "
      ]
     },
     "execution_count": 11,
     "metadata": {},
     "output_type": "execute_result"
    }
   ],
   "source": [
    "data.head()"
   ]
  },
  {
   "cell_type": "code",
   "execution_count": 12,
   "metadata": {},
   "outputs": [],
   "source": [
    "sentiments = pd.DataFrame(data['correct_body'])\n",
    "sentiments.to_csv('sentiments.csv')"
   ]
  },
  {
   "cell_type": "code",
   "execution_count": 9,
   "metadata": {},
   "outputs": [],
   "source": [
    "def text_preprocessing(sentence):\n",
    "    #do some cleaning\n",
    "    sentence = nlp(sentence)\n",
    "    clean_text = []\n",
    "    for word in sentence:\n",
    "        if not word.is_stop:\n",
    "            if word.is_alpha:\n",
    "                clean_text.append(word.lemma_)\n",
    "    return clean_text"
   ]
  },
  {
   "cell_type": "code",
   "execution_count": 10,
   "metadata": {},
   "outputs": [],
   "source": [
    "# lemma_words_lyrics = []\n",
    "# for words in review_title:\n",
    "#     new = text_preprocessing(words.lower())\n",
    "#     lemma_words_lyrics.append(new)"
   ]
  },
  {
   "cell_type": "code",
   "execution_count": 11,
   "metadata": {},
   "outputs": [],
   "source": [
    "# sentence_lyrics = []\n",
    "# for n in lemma_words_lyrics:\n",
    "#     new_word = ' '.join(n)\n",
    "#     sentence_lyrics.append(new_word)"
   ]
  },
  {
   "cell_type": "code",
   "execution_count": 12,
   "metadata": {},
   "outputs": [],
   "source": [
    "# sentence_lyrics[3]"
   ]
  },
  {
   "cell_type": "code",
   "execution_count": 13,
   "metadata": {},
   "outputs": [],
   "source": [
    "def get_lemma_sentences(review_list):\n",
    "    lemma_words = []\n",
    "    joined_sentence_list = []\n",
    "    for words in review_list:\n",
    "        new = text_preprocessing(words.lower())\n",
    "        lemma_words.append(new)\n",
    "    for n in lemma_words:\n",
    "#         n = [spell.correction(word) for word in n]\n",
    "        new_word = ' '.join(n)\n",
    "        joined_sentence_list.append(new_word)\n",
    "    return joined_sentence_list\n",
    "    \n",
    "    "
   ]
  },
  {
   "cell_type": "code",
   "execution_count": 14,
   "metadata": {},
   "outputs": [],
   "source": [
    "lemma_title = get_lemma_sentences(review_title)\n",
    "lemma_body = get_lemma_sentences(review_body)"
   ]
  },
  {
   "cell_type": "code",
   "execution_count": 15,
   "metadata": {},
   "outputs": [],
   "source": [
    "data['review_title'] = lemma_title\n",
    "data['review_body'] = lemma_body"
   ]
  },
  {
   "cell_type": "code",
   "execution_count": 16,
   "metadata": {},
   "outputs": [
    {
     "data": {
      "text/html": [
       "<div>\n",
       "<style scoped>\n",
       "    .dataframe tbody tr th:only-of-type {\n",
       "        vertical-align: middle;\n",
       "    }\n",
       "\n",
       "    .dataframe tbody tr th {\n",
       "        vertical-align: top;\n",
       "    }\n",
       "\n",
       "    .dataframe thead th {\n",
       "        text-align: right;\n",
       "    }\n",
       "</style>\n",
       "<table border=\"1\" class=\"dataframe\">\n",
       "  <thead>\n",
       "    <tr style=\"text-align: right;\">\n",
       "      <th></th>\n",
       "      <th>review_title</th>\n",
       "      <th>review_body</th>\n",
       "      <th>company_source</th>\n",
       "    </tr>\n",
       "  </thead>\n",
       "  <tbody>\n",
       "    <tr>\n",
       "      <th>0</th>\n",
       "      <td>order item little</td>\n",
       "      <td>order item little payment misunderstanding zea...</td>\n",
       "      <td>zalando</td>\n",
       "    </tr>\n",
       "    <tr>\n",
       "      <th>1</th>\n",
       "      <td>order item euro</td>\n",
       "      <td>order item euro come cheap item euro order del...</td>\n",
       "      <td>zalando</td>\n",
       "    </tr>\n",
       "    <tr>\n",
       "      <th>2</th>\n",
       "      <td>choice apparel shopping</td>\n",
       "      <td>choice apparel shopping customer year sure mis...</td>\n",
       "      <td>zalando</td>\n",
       "    </tr>\n",
       "    <tr>\n",
       "      <th>3</th>\n",
       "      <td>support bad return item money</td>\n",
       "      <td>order item get end lot item fit want return it...</td>\n",
       "      <td>zalando</td>\n",
       "    </tr>\n",
       "    <tr>\n",
       "      <th>4</th>\n",
       "      <td>utterly useless respect</td>\n",
       "      <td>item order come day dhl electrictronically inf...</td>\n",
       "      <td>zalando</td>\n",
       "    </tr>\n",
       "  </tbody>\n",
       "</table>\n",
       "</div>"
      ],
      "text/plain": [
       "                    review_title  \\\n",
       "0              order item little   \n",
       "1                order item euro   \n",
       "2        choice apparel shopping   \n",
       "3  support bad return item money   \n",
       "4        utterly useless respect   \n",
       "\n",
       "                                         review_body company_source  \n",
       "0  order item little payment misunderstanding zea...        zalando  \n",
       "1  order item euro come cheap item euro order del...        zalando  \n",
       "2  choice apparel shopping customer year sure mis...        zalando  \n",
       "3  order item get end lot item fit want return it...        zalando  \n",
       "4  item order come day dhl electrictronically inf...        zalando  "
      ]
     },
     "execution_count": 16,
     "metadata": {},
     "output_type": "execute_result"
    }
   ],
   "source": [
    "data.head()"
   ]
  },
  {
   "cell_type": "code",
   "execution_count": 17,
   "metadata": {},
   "outputs": [],
   "source": [
    "all_review_body = pd.DataFrame(data['review_body'])"
   ]
  },
  {
   "cell_type": "code",
   "execution_count": 18,
   "metadata": {},
   "outputs": [],
   "source": [
    "all_review_body.to_csv('review_body.csv')"
   ]
  },
  {
   "cell_type": "code",
   "execution_count": null,
   "metadata": {},
   "outputs": [],
   "source": []
  }
 ],
 "metadata": {
  "kernelspec": {
   "display_name": "Python 3",
   "language": "python",
   "name": "python3"
  },
  "language_info": {
   "codemirror_mode": {
    "name": "ipython",
    "version": 3
   },
   "file_extension": ".py",
   "mimetype": "text/x-python",
   "name": "python",
   "nbconvert_exporter": "python",
   "pygments_lexer": "ipython3",
   "version": "3.7.9"
  }
 },
 "nbformat": 4,
 "nbformat_minor": 4
}
